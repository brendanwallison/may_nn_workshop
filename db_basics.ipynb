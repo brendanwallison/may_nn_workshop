{
 "cells": [
  {
   "cell_type": "markdown",
   "id": "eb203fdf",
   "metadata": {},
   "source": [
    "Birdnet seems to use a particular DB format perch-hoplite. You can interact with it using standard sql libraries:"
   ]
  },
  {
   "cell_type": "code",
   "execution_count": 45,
   "id": "ce3d4a74",
   "metadata": {},
   "outputs": [],
   "source": [
    "import sqlite3\n",
    "db_path = 'data/train_embeddings_database/hoplite.sqlite' # Replace with the actual path\n",
    "connection = sqlite3.connect(db_path)"
   ]
  },
  {
   "cell_type": "code",
   "execution_count": 46,
   "id": "369bae60",
   "metadata": {},
   "outputs": [
    {
     "name": "stdout",
     "output_type": "stream",
     "text": [
      "[('hoplite_sources',), ('sqlite_sequence',), ('hoplite_embeddings',), ('hoplite_metadata',), ('hoplite_labels',)]\n"
     ]
    }
   ],
   "source": [
    "cursor = connection.cursor()\n",
    "cursor.execute(\"SELECT name FROM sqlite_master WHERE type='table';\")\n",
    "print(cursor.fetchall())"
   ]
  },
  {
   "cell_type": "code",
   "execution_count": 47,
   "id": "cc809faa",
   "metadata": {},
   "outputs": [
    {
     "data": {
      "text/html": [
       "<div>\n",
       "<style scoped>\n",
       "    .dataframe tbody tr th:only-of-type {\n",
       "        vertical-align: middle;\n",
       "    }\n",
       "\n",
       "    .dataframe tbody tr th {\n",
       "        vertical-align: top;\n",
       "    }\n",
       "\n",
       "    .dataframe thead th {\n",
       "        text-align: right;\n",
       "    }\n",
       "</style>\n",
       "<table border=\"1\" class=\"dataframe\">\n",
       "  <thead>\n",
       "    <tr style=\"text-align: right;\">\n",
       "      <th></th>\n",
       "      <th>id</th>\n",
       "      <th>source_idx</th>\n",
       "      <th>offsets</th>\n",
       "    </tr>\n",
       "  </thead>\n",
       "  <tbody>\n",
       "    <tr>\n",
       "      <th>0</th>\n",
       "      <td>1</td>\n",
       "      <td>1</td>\n",
       "      <td>b'\\x00\\x00\\x00B'</td>\n",
       "    </tr>\n",
       "    <tr>\n",
       "      <th>1</th>\n",
       "      <td>2</td>\n",
       "      <td>1</td>\n",
       "      <td>b'\\x00@\\x00E'</td>\n",
       "    </tr>\n",
       "    <tr>\n",
       "      <th>2</th>\n",
       "      <td>3</td>\n",
       "      <td>1</td>\n",
       "      <td>b'\\x00D\\x00G'</td>\n",
       "    </tr>\n",
       "    <tr>\n",
       "      <th>3</th>\n",
       "      <td>4</td>\n",
       "      <td>2</td>\n",
       "      <td>b'\\x00\\x00\\x00B'</td>\n",
       "    </tr>\n",
       "    <tr>\n",
       "      <th>4</th>\n",
       "      <td>5</td>\n",
       "      <td>2</td>\n",
       "      <td>b'\\x00@\\x00E'</td>\n",
       "    </tr>\n",
       "    <tr>\n",
       "      <th>...</th>\n",
       "      <td>...</td>\n",
       "      <td>...</td>\n",
       "      <td>...</td>\n",
       "    </tr>\n",
       "    <tr>\n",
       "      <th>1335</th>\n",
       "      <td>1336</td>\n",
       "      <td>513</td>\n",
       "      <td>b'\\x00@\\x00E'</td>\n",
       "    </tr>\n",
       "    <tr>\n",
       "      <th>1336</th>\n",
       "      <td>1337</td>\n",
       "      <td>514</td>\n",
       "      <td>b'\\x00\\x00\\x00B'</td>\n",
       "    </tr>\n",
       "    <tr>\n",
       "      <th>1337</th>\n",
       "      <td>1338</td>\n",
       "      <td>514</td>\n",
       "      <td>b'\\x00@\\x00E'</td>\n",
       "    </tr>\n",
       "    <tr>\n",
       "      <th>1338</th>\n",
       "      <td>1339</td>\n",
       "      <td>515</td>\n",
       "      <td>b'\\x00\\x00\\x00B'</td>\n",
       "    </tr>\n",
       "    <tr>\n",
       "      <th>1339</th>\n",
       "      <td>1340</td>\n",
       "      <td>515</td>\n",
       "      <td>b'\\x00@\\x00E'</td>\n",
       "    </tr>\n",
       "  </tbody>\n",
       "</table>\n",
       "<p>1340 rows × 3 columns</p>\n",
       "</div>"
      ],
      "text/plain": [
       "        id  source_idx           offsets\n",
       "0        1           1  b'\\x00\\x00\\x00B'\n",
       "1        2           1     b'\\x00@\\x00E'\n",
       "2        3           1     b'\\x00D\\x00G'\n",
       "3        4           2  b'\\x00\\x00\\x00B'\n",
       "4        5           2     b'\\x00@\\x00E'\n",
       "...    ...         ...               ...\n",
       "1335  1336         513     b'\\x00@\\x00E'\n",
       "1336  1337         514  b'\\x00\\x00\\x00B'\n",
       "1337  1338         514     b'\\x00@\\x00E'\n",
       "1338  1339         515  b'\\x00\\x00\\x00B'\n",
       "1339  1340         515     b'\\x00@\\x00E'\n",
       "\n",
       "[1340 rows x 3 columns]"
      ]
     },
     "execution_count": 47,
     "metadata": {},
     "output_type": "execute_result"
    }
   ],
   "source": [
    "import pandas as pd\n",
    "embeddings = pd.read_sql_query(\"SELECT * from hoplite_embeddings\", connection)\n",
    "embeddings"
   ]
  },
  {
   "cell_type": "markdown",
   "id": "e7743926",
   "metadata": {},
   "source": [
    "Or you can use google research's more specialized perch-hoplite. The commands I use here, particularly the initial import and db creation statements, are taken from snippets of Birdnet-Analyzer code. After that it seems pretty straightforward"
   ]
  },
  {
   "cell_type": "code",
   "execution_count": null,
   "id": "2f7adddb",
   "metadata": {},
   "outputs": [],
   "source": [
    "## pip install git+https://github.com/google-research/perch-hoplite.git\n",
    "from perch_hoplite.db import interface as hoplite"
   ]
  },
  {
   "cell_type": "code",
   "execution_count": null,
   "id": "117e24d9",
   "metadata": {},
   "outputs": [
    {
     "data": {
      "text/html": [
       "<div>\n",
       "<style scoped>\n",
       "    .dataframe tbody tr th:only-of-type {\n",
       "        vertical-align: middle;\n",
       "    }\n",
       "\n",
       "    .dataframe tbody tr th {\n",
       "        vertical-align: top;\n",
       "    }\n",
       "\n",
       "    .dataframe thead th {\n",
       "        text-align: right;\n",
       "    }\n",
       "</style>\n",
       "<table border=\"1\" class=\"dataframe\">\n",
       "  <thead>\n",
       "    <tr style=\"text-align: right;\">\n",
       "      <th></th>\n",
       "      <th>id</th>\n",
       "      <th>source_idx</th>\n",
       "      <th>offsets</th>\n",
       "    </tr>\n",
       "  </thead>\n",
       "  <tbody>\n",
       "    <tr>\n",
       "      <th>0</th>\n",
       "      <td>1</td>\n",
       "      <td>1</td>\n",
       "      <td>b'\\x00\\x00\\x00B'</td>\n",
       "    </tr>\n",
       "    <tr>\n",
       "      <th>1</th>\n",
       "      <td>2</td>\n",
       "      <td>1</td>\n",
       "      <td>b'\\x00@\\x00E'</td>\n",
       "    </tr>\n",
       "    <tr>\n",
       "      <th>2</th>\n",
       "      <td>3</td>\n",
       "      <td>1</td>\n",
       "      <td>b'\\x00D\\x00G'</td>\n",
       "    </tr>\n",
       "    <tr>\n",
       "      <th>3</th>\n",
       "      <td>4</td>\n",
       "      <td>2</td>\n",
       "      <td>b'\\x00\\x00\\x00B'</td>\n",
       "    </tr>\n",
       "    <tr>\n",
       "      <th>4</th>\n",
       "      <td>5</td>\n",
       "      <td>2</td>\n",
       "      <td>b'\\x00@\\x00E'</td>\n",
       "    </tr>\n",
       "    <tr>\n",
       "      <th>...</th>\n",
       "      <td>...</td>\n",
       "      <td>...</td>\n",
       "      <td>...</td>\n",
       "    </tr>\n",
       "    <tr>\n",
       "      <th>1335</th>\n",
       "      <td>1336</td>\n",
       "      <td>513</td>\n",
       "      <td>b'\\x00@\\x00E'</td>\n",
       "    </tr>\n",
       "    <tr>\n",
       "      <th>1336</th>\n",
       "      <td>1337</td>\n",
       "      <td>514</td>\n",
       "      <td>b'\\x00\\x00\\x00B'</td>\n",
       "    </tr>\n",
       "    <tr>\n",
       "      <th>1337</th>\n",
       "      <td>1338</td>\n",
       "      <td>514</td>\n",
       "      <td>b'\\x00@\\x00E'</td>\n",
       "    </tr>\n",
       "    <tr>\n",
       "      <th>1338</th>\n",
       "      <td>1339</td>\n",
       "      <td>515</td>\n",
       "      <td>b'\\x00\\x00\\x00B'</td>\n",
       "    </tr>\n",
       "    <tr>\n",
       "      <th>1339</th>\n",
       "      <td>1340</td>\n",
       "      <td>515</td>\n",
       "      <td>b'\\x00@\\x00E'</td>\n",
       "    </tr>\n",
       "  </tbody>\n",
       "</table>\n",
       "<p>1340 rows × 3 columns</p>\n",
       "</div>"
      ],
      "text/plain": [
       "        id  source_idx           offsets\n",
       "0        1           1  b'\\x00\\x00\\x00B'\n",
       "1        2           1     b'\\x00@\\x00E'\n",
       "2        3           1     b'\\x00D\\x00G'\n",
       "3        4           2  b'\\x00\\x00\\x00B'\n",
       "4        5           2     b'\\x00@\\x00E'\n",
       "...    ...         ...               ...\n",
       "1335  1336         513     b'\\x00@\\x00E'\n",
       "1336  1337         514  b'\\x00\\x00\\x00B'\n",
       "1337  1338         514     b'\\x00@\\x00E'\n",
       "1338  1339         515  b'\\x00\\x00\\x00B'\n",
       "1339  1340         515     b'\\x00@\\x00E'\n",
       "\n",
       "[1340 rows x 3 columns]"
      ]
     },
     "execution_count": 29,
     "metadata": {},
     "output_type": "execute_result"
    }
   ],
   "source": [
    "from perch_hoplite.db import sqlite_usearch_impl\n",
    "db_path = 'data/train_embeddings_database/'\n",
    "embedding_db = sqlite_usearch_impl.SQLiteUsearchDB.create(db_path)"
   ]
  },
  {
   "cell_type": "code",
   "execution_count": 48,
   "id": "e9d112fa",
   "metadata": {},
   "outputs": [
    {
     "data": {
      "text/plain": [
       "array([   1,    2,    3, ..., 1338, 1339, 1340])"
      ]
     },
     "execution_count": 48,
     "metadata": {},
     "output_type": "execute_result"
    }
   ],
   "source": [
    "embedding_db.get_embedding_ids()"
   ]
  },
  {
   "cell_type": "code",
   "execution_count": 49,
   "id": "760b0946",
   "metadata": {},
   "outputs": [
    {
     "data": {
      "text/plain": [
       "array([0.     , 0.9517 , 0.11847, ..., 0.4795 , 0.02275, 0.3196 ],\n",
       "      dtype=float16)"
      ]
     },
     "execution_count": 49,
     "metadata": {},
     "output_type": "execute_result"
    }
   ],
   "source": [
    "embedding_db.get_embedding(1)"
   ]
  },
  {
   "cell_type": "code",
   "execution_count": 53,
   "id": "c7893b45",
   "metadata": {},
   "outputs": [
    {
     "data": {
      "text/plain": [
       "EmbeddingSource(dataset_name='birdnet_analyzer_dataset', source_id='//NAS/NAS-Files/Datasets/GCW_labeled_samples/Training_Data/Train/Positive\\\\Keitt_Positive\\\\A_Song\\\\S4A01514_20170310_094702_3081.wav', offsets=array([0., 3.], dtype=float16))"
      ]
     },
     "execution_count": 53,
     "metadata": {},
     "output_type": "execute_result"
    }
   ],
   "source": [
    "embedding_db.get_embedding_source(1)"
   ]
  }
 ],
 "metadata": {
  "kernelspec": {
   "display_name": "generic_data_science",
   "language": "python",
   "name": "python3"
  },
  "language_info": {
   "codemirror_mode": {
    "name": "ipython",
    "version": 3
   },
   "file_extension": ".py",
   "mimetype": "text/x-python",
   "name": "python",
   "nbconvert_exporter": "python",
   "pygments_lexer": "ipython3",
   "version": "3.12.10"
  }
 },
 "nbformat": 4,
 "nbformat_minor": 5
}
