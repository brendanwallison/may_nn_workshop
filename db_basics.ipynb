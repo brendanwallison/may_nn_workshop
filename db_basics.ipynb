{
 "cells": [
  {
   "cell_type": "markdown",
   "id": "eb203fdf",
   "metadata": {},
   "source": [
    "Birdnet seems to use a particular DB format perch-hoplite. You can interact with it using standard sql libraries:"
   ]
  },
  {
   "cell_type": "code",
   "execution_count": 23,
   "id": "ce3d4a74",
   "metadata": {},
   "outputs": [],
   "source": [
    "import sqlite3\n",
    "import pandas as pd\n",
    "import numpy as np\n"
   ]
  },
  {
   "cell_type": "code",
   "execution_count": null,
   "id": "68a017b9",
   "metadata": {},
   "outputs": [],
   "source": [
    "db_path = 'data/train_embeddings_database/hoplite.sqlite' # Replace with the actual path\n",
    "connection = sqlite3.connect(db_path)"
   ]
  },
  {
   "cell_type": "code",
   "execution_count": 2,
   "id": "369bae60",
   "metadata": {},
   "outputs": [
    {
     "name": "stdout",
     "output_type": "stream",
     "text": [
      "[('hoplite_sources',), ('sqlite_sequence',), ('hoplite_embeddings',), ('hoplite_metadata',), ('hoplite_labels',)]\n"
     ]
    }
   ],
   "source": [
    "cursor = connection.cursor()\n",
    "cursor.execute(\"SELECT name FROM sqlite_master WHERE type='table';\")\n",
    "print(cursor.fetchall())"
   ]
  },
  {
   "cell_type": "code",
   "execution_count": 55,
   "id": "cc809faa",
   "metadata": {},
   "outputs": [
    {
     "data": {
      "text/html": [
       "<div>\n",
       "<style scoped>\n",
       "    .dataframe tbody tr th:only-of-type {\n",
       "        vertical-align: middle;\n",
       "    }\n",
       "\n",
       "    .dataframe tbody tr th {\n",
       "        vertical-align: top;\n",
       "    }\n",
       "\n",
       "    .dataframe thead th {\n",
       "        text-align: right;\n",
       "    }\n",
       "</style>\n",
       "<table border=\"1\" class=\"dataframe\">\n",
       "  <thead>\n",
       "    <tr style=\"text-align: right;\">\n",
       "      <th></th>\n",
       "      <th>id</th>\n",
       "      <th>source_idx</th>\n",
       "      <th>offsets</th>\n",
       "    </tr>\n",
       "  </thead>\n",
       "  <tbody>\n",
       "    <tr>\n",
       "      <th>0</th>\n",
       "      <td>1</td>\n",
       "      <td>1</td>\n",
       "      <td>b'\\x00\\x00\\x00B'</td>\n",
       "    </tr>\n",
       "    <tr>\n",
       "      <th>1</th>\n",
       "      <td>2</td>\n",
       "      <td>1</td>\n",
       "      <td>b'\\x00@\\x00E'</td>\n",
       "    </tr>\n",
       "    <tr>\n",
       "      <th>2</th>\n",
       "      <td>3</td>\n",
       "      <td>1</td>\n",
       "      <td>b'\\x00D\\x00G'</td>\n",
       "    </tr>\n",
       "    <tr>\n",
       "      <th>3</th>\n",
       "      <td>4</td>\n",
       "      <td>2</td>\n",
       "      <td>b'\\x00\\x00\\x00B'</td>\n",
       "    </tr>\n",
       "    <tr>\n",
       "      <th>4</th>\n",
       "      <td>5</td>\n",
       "      <td>2</td>\n",
       "      <td>b'\\x00@\\x00E'</td>\n",
       "    </tr>\n",
       "    <tr>\n",
       "      <th>...</th>\n",
       "      <td>...</td>\n",
       "      <td>...</td>\n",
       "      <td>...</td>\n",
       "    </tr>\n",
       "    <tr>\n",
       "      <th>1335</th>\n",
       "      <td>1336</td>\n",
       "      <td>513</td>\n",
       "      <td>b'\\x00@\\x00E'</td>\n",
       "    </tr>\n",
       "    <tr>\n",
       "      <th>1336</th>\n",
       "      <td>1337</td>\n",
       "      <td>514</td>\n",
       "      <td>b'\\x00\\x00\\x00B'</td>\n",
       "    </tr>\n",
       "    <tr>\n",
       "      <th>1337</th>\n",
       "      <td>1338</td>\n",
       "      <td>514</td>\n",
       "      <td>b'\\x00@\\x00E'</td>\n",
       "    </tr>\n",
       "    <tr>\n",
       "      <th>1338</th>\n",
       "      <td>1339</td>\n",
       "      <td>515</td>\n",
       "      <td>b'\\x00\\x00\\x00B'</td>\n",
       "    </tr>\n",
       "    <tr>\n",
       "      <th>1339</th>\n",
       "      <td>1340</td>\n",
       "      <td>515</td>\n",
       "      <td>b'\\x00@\\x00E'</td>\n",
       "    </tr>\n",
       "  </tbody>\n",
       "</table>\n",
       "<p>1340 rows × 3 columns</p>\n",
       "</div>"
      ],
      "text/plain": [
       "        id  source_idx           offsets\n",
       "0        1           1  b'\\x00\\x00\\x00B'\n",
       "1        2           1     b'\\x00@\\x00E'\n",
       "2        3           1     b'\\x00D\\x00G'\n",
       "3        4           2  b'\\x00\\x00\\x00B'\n",
       "4        5           2     b'\\x00@\\x00E'\n",
       "...    ...         ...               ...\n",
       "1335  1336         513     b'\\x00@\\x00E'\n",
       "1336  1337         514  b'\\x00\\x00\\x00B'\n",
       "1337  1338         514     b'\\x00@\\x00E'\n",
       "1338  1339         515  b'\\x00\\x00\\x00B'\n",
       "1339  1340         515     b'\\x00@\\x00E'\n",
       "\n",
       "[1340 rows x 3 columns]"
      ]
     },
     "execution_count": 55,
     "metadata": {},
     "output_type": "execute_result"
    }
   ],
   "source": [
    "embeddings = pd.read_sql_query(\"SELECT * from hoplite_embeddings\", connection)\n",
    "embeddings"
   ]
  },
  {
   "cell_type": "code",
   "execution_count": 11,
   "id": "42b88e32",
   "metadata": {},
   "outputs": [
    {
     "data": {
      "text/plain": [
       "0      //NAS/NAS-Files/Datasets/GCW_labeled_samples/T...\n",
       "1      //NAS/NAS-Files/Datasets/GCW_labeled_samples/T...\n",
       "2      //NAS/NAS-Files/Datasets/GCW_labeled_samples/T...\n",
       "3      //NAS/NAS-Files/Datasets/GCW_labeled_samples/T...\n",
       "4      //NAS/NAS-Files/Datasets/GCW_labeled_samples/T...\n",
       "                             ...                        \n",
       "510    //NAS/NAS-Files/Datasets/GCW_labeled_samples/T...\n",
       "511    //NAS/NAS-Files/Datasets/GCW_labeled_samples/T...\n",
       "512    //NAS/NAS-Files/Datasets/GCW_labeled_samples/T...\n",
       "513    //NAS/NAS-Files/Datasets/GCW_labeled_samples/T...\n",
       "514    //NAS/NAS-Files/Datasets/GCW_labeled_samples/T...\n",
       "Name: source, Length: 515, dtype: object"
      ]
     },
     "execution_count": 11,
     "metadata": {},
     "output_type": "execute_result"
    }
   ],
   "source": [
    "sources = pd.read_sql_query(\"SELECT * from hoplite_sources\", connection)\n",
    "sources['source']"
   ]
  },
  {
   "cell_type": "code",
   "execution_count": 51,
   "id": "7e6483b9",
   "metadata": {},
   "outputs": [
    {
     "data": {
      "text/html": [
       "<div>\n",
       "<style scoped>\n",
       "    .dataframe tbody tr th:only-of-type {\n",
       "        vertical-align: middle;\n",
       "    }\n",
       "\n",
       "    .dataframe tbody tr th {\n",
       "        vertical-align: top;\n",
       "    }\n",
       "\n",
       "    .dataframe thead th {\n",
       "        text-align: right;\n",
       "    }\n",
       "</style>\n",
       "<table border=\"1\" class=\"dataframe\">\n",
       "  <thead>\n",
       "    <tr style=\"text-align: right;\">\n",
       "      <th></th>\n",
       "      <th>id</th>\n",
       "      <th>dataset</th>\n",
       "      <th>source</th>\n",
       "    </tr>\n",
       "  </thead>\n",
       "  <tbody>\n",
       "    <tr>\n",
       "      <th>0</th>\n",
       "      <td>1</td>\n",
       "      <td>birdnet_analyzer_dataset</td>\n",
       "      <td>//NAS/NAS-Files/Datasets/GCW_labeled_samples/T...</td>\n",
       "    </tr>\n",
       "    <tr>\n",
       "      <th>1</th>\n",
       "      <td>2</td>\n",
       "      <td>birdnet_analyzer_dataset</td>\n",
       "      <td>//NAS/NAS-Files/Datasets/GCW_labeled_samples/T...</td>\n",
       "    </tr>\n",
       "    <tr>\n",
       "      <th>2</th>\n",
       "      <td>3</td>\n",
       "      <td>birdnet_analyzer_dataset</td>\n",
       "      <td>//NAS/NAS-Files/Datasets/GCW_labeled_samples/T...</td>\n",
       "    </tr>\n",
       "    <tr>\n",
       "      <th>3</th>\n",
       "      <td>4</td>\n",
       "      <td>birdnet_analyzer_dataset</td>\n",
       "      <td>//NAS/NAS-Files/Datasets/GCW_labeled_samples/T...</td>\n",
       "    </tr>\n",
       "    <tr>\n",
       "      <th>4</th>\n",
       "      <td>5</td>\n",
       "      <td>birdnet_analyzer_dataset</td>\n",
       "      <td>//NAS/NAS-Files/Datasets/GCW_labeled_samples/T...</td>\n",
       "    </tr>\n",
       "    <tr>\n",
       "      <th>...</th>\n",
       "      <td>...</td>\n",
       "      <td>...</td>\n",
       "      <td>...</td>\n",
       "    </tr>\n",
       "    <tr>\n",
       "      <th>510</th>\n",
       "      <td>511</td>\n",
       "      <td>birdnet_analyzer_dataset</td>\n",
       "      <td>//NAS/NAS-Files/Datasets/GCW_labeled_samples/T...</td>\n",
       "    </tr>\n",
       "    <tr>\n",
       "      <th>511</th>\n",
       "      <td>512</td>\n",
       "      <td>birdnet_analyzer_dataset</td>\n",
       "      <td>//NAS/NAS-Files/Datasets/GCW_labeled_samples/T...</td>\n",
       "    </tr>\n",
       "    <tr>\n",
       "      <th>512</th>\n",
       "      <td>513</td>\n",
       "      <td>birdnet_analyzer_dataset</td>\n",
       "      <td>//NAS/NAS-Files/Datasets/GCW_labeled_samples/T...</td>\n",
       "    </tr>\n",
       "    <tr>\n",
       "      <th>513</th>\n",
       "      <td>514</td>\n",
       "      <td>birdnet_analyzer_dataset</td>\n",
       "      <td>//NAS/NAS-Files/Datasets/GCW_labeled_samples/T...</td>\n",
       "    </tr>\n",
       "    <tr>\n",
       "      <th>514</th>\n",
       "      <td>515</td>\n",
       "      <td>birdnet_analyzer_dataset</td>\n",
       "      <td>//NAS/NAS-Files/Datasets/GCW_labeled_samples/T...</td>\n",
       "    </tr>\n",
       "  </tbody>\n",
       "</table>\n",
       "<p>515 rows × 3 columns</p>\n",
       "</div>"
      ],
      "text/plain": [
       "      id                   dataset  \\\n",
       "0      1  birdnet_analyzer_dataset   \n",
       "1      2  birdnet_analyzer_dataset   \n",
       "2      3  birdnet_analyzer_dataset   \n",
       "3      4  birdnet_analyzer_dataset   \n",
       "4      5  birdnet_analyzer_dataset   \n",
       "..   ...                       ...   \n",
       "510  511  birdnet_analyzer_dataset   \n",
       "511  512  birdnet_analyzer_dataset   \n",
       "512  513  birdnet_analyzer_dataset   \n",
       "513  514  birdnet_analyzer_dataset   \n",
       "514  515  birdnet_analyzer_dataset   \n",
       "\n",
       "                                                source  \n",
       "0    //NAS/NAS-Files/Datasets/GCW_labeled_samples/T...  \n",
       "1    //NAS/NAS-Files/Datasets/GCW_labeled_samples/T...  \n",
       "2    //NAS/NAS-Files/Datasets/GCW_labeled_samples/T...  \n",
       "3    //NAS/NAS-Files/Datasets/GCW_labeled_samples/T...  \n",
       "4    //NAS/NAS-Files/Datasets/GCW_labeled_samples/T...  \n",
       "..                                                 ...  \n",
       "510  //NAS/NAS-Files/Datasets/GCW_labeled_samples/T...  \n",
       "511  //NAS/NAS-Files/Datasets/GCW_labeled_samples/T...  \n",
       "512  //NAS/NAS-Files/Datasets/GCW_labeled_samples/T...  \n",
       "513  //NAS/NAS-Files/Datasets/GCW_labeled_samples/T...  \n",
       "514  //NAS/NAS-Files/Datasets/GCW_labeled_samples/T...  \n",
       "\n",
       "[515 rows x 3 columns]"
      ]
     },
     "execution_count": 51,
     "metadata": {},
     "output_type": "execute_result"
    }
   ],
   "source": [
    "sources"
   ]
  },
  {
   "cell_type": "code",
   "execution_count": 113,
   "id": "34ba0837",
   "metadata": {},
   "outputs": [
    {
     "data": {
      "text/plain": [
       "'//NAS/NAS-Files/Datasets/GCW_labeled_samples/Training_Data/Train/Positive\\\\Library_Positive\\\\B Song\\\\332685351-4.wav'"
      ]
     },
     "execution_count": 113,
     "metadata": {},
     "output_type": "execute_result"
    }
   ],
   "source": [
    "sources.iloc[514][\"source\"]"
   ]
  },
  {
   "cell_type": "code",
   "execution_count": 111,
   "id": "cd6d9565",
   "metadata": {},
   "outputs": [
    {
     "data": {
      "text/plain": [
       "id                        1339\n",
       "source_idx                 515\n",
       "offsets       b'\\x00\\x00\\x00B'\n",
       "Name: 1338, dtype: object"
      ]
     },
     "execution_count": 111,
     "metadata": {},
     "output_type": "execute_result"
    }
   ],
   "source": [
    "embeddings.iloc[1338]"
   ]
  },
  {
   "cell_type": "code",
   "execution_count": 98,
   "id": "970cbb87",
   "metadata": {},
   "outputs": [
    {
     "data": {
      "text/plain": [
       "0       True\n",
       "1       True\n",
       "2       True\n",
       "3       True\n",
       "4       True\n",
       "       ...  \n",
       "510    False\n",
       "511    False\n",
       "512    False\n",
       "513    False\n",
       "514    False\n",
       "Name: source, Length: 515, dtype: bool"
      ]
     },
     "execution_count": 98,
     "metadata": {},
     "output_type": "execute_result"
    }
   ],
   "source": [
    "sources['source'].str.contains(\"A_Song|A Song\", regex=True)"
   ]
  },
  {
   "cell_type": "code",
   "execution_count": 97,
   "id": "3ab9d50c",
   "metadata": {},
   "outputs": [
    {
     "data": {
      "text/plain": [
       "array([  0,   1,   2,   3,   4,   5,   6,   7,   8,   9,  10,  11,  12,\n",
       "        13,  14,  15,  16,  17,  18,  19,  20,  21,  22,  23,  24,  25,\n",
       "        26,  27,  28,  29,  30,  31,  32,  33,  34,  35,  36,  37,  38,\n",
       "        39,  40,  41,  42,  43,  44,  45,  46,  47,  48,  49,  50,  51,\n",
       "        52,  53,  54,  55,  56,  57,  58,  59,  60,  61,  62,  63,  64,\n",
       "        65,  66,  67,  68,  69,  70,  71,  72,  73,  74,  75,  76,  77,\n",
       "        78,  79,  80,  81,  82,  83,  84,  85,  86,  87,  88,  89,  90,\n",
       "        91,  92,  93,  94,  95,  96,  97,  98,  99, 100, 101, 102, 103,\n",
       "       104, 105, 106, 107, 108, 109, 110, 111, 112, 113, 114, 115, 116,\n",
       "       117, 118, 119, 120, 121, 122, 123, 124, 125, 126, 127, 128, 129,\n",
       "       130, 131, 132, 133, 134, 135, 136, 137, 138, 139, 140, 141, 142,\n",
       "       143, 144, 145, 146, 147, 148, 149, 150, 151, 152, 153, 154, 155,\n",
       "       156, 157, 158, 159, 160, 161, 162, 163, 164, 165, 166, 167, 168,\n",
       "       169, 170, 171, 172, 173, 174, 175, 176, 177, 178, 179, 180, 181,\n",
       "       182, 183, 184, 185, 186, 187, 188, 189, 190, 191, 192, 193, 194,\n",
       "       195, 196, 197, 198, 199, 200, 201, 202, 203, 204, 205, 206, 207,\n",
       "       208, 209, 210, 211, 212, 213, 214, 215, 216, 217, 218, 219, 220,\n",
       "       221, 222, 223, 224, 225, 226, 227, 228, 229, 230, 231, 232, 233,\n",
       "       310, 311, 312, 313, 314, 315, 316, 317, 318, 319, 320, 321, 322,\n",
       "       323, 324, 325, 326, 327, 328, 329, 330, 331, 332, 333, 334, 335,\n",
       "       336, 337, 338, 339, 340, 341, 342, 343, 344, 345, 346, 347, 348,\n",
       "       349, 350, 351, 352, 353, 354, 355, 356, 357, 358, 359, 360, 361,\n",
       "       362, 363, 364, 365, 366, 367, 368, 369, 370, 371, 372, 373, 374,\n",
       "       375, 376, 377, 378, 379, 380, 381, 382, 383, 384, 385, 386])"
      ]
     },
     "execution_count": 97,
     "metadata": {},
     "output_type": "execute_result"
    }
   ],
   "source": [
    "np.where(sources['source'].str.contains(\"A_Song|A Song\", regex=True))[0]"
   ]
  },
  {
   "cell_type": "code",
   "execution_count": 116,
   "id": "89f7234f",
   "metadata": {},
   "outputs": [],
   "source": [
    "A_song = np.where(sources['source'].str.contains(\"A_Song|A Song\", regex=True))[0] + 1\n",
    "B_song = np.where(sources['source'].str.contains(\"B_Song|B Song\", regex=True))[0] + 1\n",
    "A_Song_No_Hook = np.where(sources['source'].str.contains(\"A_Song_No_Hook\"))[0] + 1\n",
    "A_and_B_Song = np.where(sources['source'].str.contains(\"A_and_B_Song\"))[0] + 1"
   ]
  },
  {
   "cell_type": "markdown",
   "id": "10c1a657",
   "metadata": {},
   "source": [
    "The above are the source ids for each song type, which is not the same as the embedding id.\n",
    "This is because these ~5-second recordings (longer than 3s) generate more than one embedding per file. \n",
    "Also note the +1 to each index: numpy indices begin at 0, while source ids begin at 1.\n",
    "\n",
    "We'll use all these embedding, though there is some risk that one of them may not overlap with the GCW song.\n",
    "Now let's use the source ids to get the embedding id we are actually interested in.\n"
   ]
  },
  {
   "cell_type": "code",
   "execution_count": 117,
   "id": "5410713d",
   "metadata": {},
   "outputs": [
    {
     "data": {
      "text/plain": [
       "0        True\n",
       "1        True\n",
       "2        True\n",
       "3        True\n",
       "4        True\n",
       "        ...  \n",
       "1335    False\n",
       "1336    False\n",
       "1337    False\n",
       "1338    False\n",
       "1339    False\n",
       "Name: source_idx, Length: 1340, dtype: bool"
      ]
     },
     "execution_count": 117,
     "metadata": {},
     "output_type": "execute_result"
    }
   ],
   "source": [
    "embeddings[\"source_idx\"].isin(A_song) | embeddings[\"source_idx\"].isin(A_Song_No_Hook)"
   ]
  },
  {
   "cell_type": "code",
   "execution_count": 118,
   "id": "e0ea7142",
   "metadata": {},
   "outputs": [],
   "source": [
    "A_present = embeddings[\"source_idx\"].isin(A_song) | embeddings[\"source_idx\"].isin(A_and_B_Song)"
   ]
  },
  {
   "cell_type": "code",
   "execution_count": 119,
   "id": "6b655162",
   "metadata": {},
   "outputs": [],
   "source": [
    "B_present = embeddings[\"source_idx\"].isin(B_song) | embeddings[\"source_idx\"].isin(A_and_B_Song)"
   ]
  },
  {
   "cell_type": "code",
   "execution_count": 121,
   "id": "ef6ce4e2",
   "metadata": {},
   "outputs": [
    {
     "data": {
      "text/plain": [
       "0        True\n",
       "1        True\n",
       "2        True\n",
       "3        True\n",
       "4        True\n",
       "        ...  \n",
       "1335    False\n",
       "1336    False\n",
       "1337    False\n",
       "1338    False\n",
       "1339    False\n",
       "Name: source_idx, Length: 1340, dtype: bool"
      ]
     },
     "execution_count": 121,
     "metadata": {},
     "output_type": "execute_result"
    }
   ],
   "source": [
    "A_present"
   ]
  },
  {
   "cell_type": "code",
   "execution_count": 122,
   "id": "b6cf8a97",
   "metadata": {},
   "outputs": [
    {
     "data": {
      "text/plain": [
       "0       False\n",
       "1       False\n",
       "2       False\n",
       "3       False\n",
       "4       False\n",
       "        ...  \n",
       "1335     True\n",
       "1336     True\n",
       "1337     True\n",
       "1338     True\n",
       "1339     True\n",
       "Name: source_idx, Length: 1340, dtype: bool"
      ]
     },
     "execution_count": 122,
     "metadata": {},
     "output_type": "execute_result"
    }
   ],
   "source": [
    "B_present"
   ]
  },
  {
   "cell_type": "code",
   "execution_count": 123,
   "id": "77af893e",
   "metadata": {},
   "outputs": [],
   "source": [
    "labels = np.zeros(shape=(embeddings.shape[0], 2))"
   ]
  },
  {
   "cell_type": "code",
   "execution_count": 124,
   "id": "97a180db",
   "metadata": {},
   "outputs": [],
   "source": [
    "labels[A_present, 0] = 1\n",
    "labels[B_present, 1] = 1"
   ]
  },
  {
   "cell_type": "code",
   "execution_count": null,
   "id": "631956a3",
   "metadata": {},
   "outputs": [
    {
     "data": {
      "text/plain": [
       "array([[1., 0.],\n",
       "       [1., 0.],\n",
       "       [1., 0.],\n",
       "       ...,\n",
       "       [0., 1.],\n",
       "       [0., 1.],\n",
       "       [0., 1.]])"
      ]
     },
     "execution_count": 126,
     "metadata": {},
     "output_type": "execute_result"
    }
   ],
   "source": [
    "labels"
   ]
  },
  {
   "cell_type": "code",
   "execution_count": 128,
   "id": "73d476a4",
   "metadata": {},
   "outputs": [],
   "source": [
    "np.save(\"train_labels.npy\", labels)"
   ]
  },
  {
   "cell_type": "markdown",
   "id": "e7743926",
   "metadata": {},
   "source": [
    "Or you can use google research's more specialized perch-hoplite. The commands I use here, particularly the initial import and db creation statements, are taken from snippets of Birdnet-Analyzer code. After that it seems pretty straightforward"
   ]
  },
  {
   "cell_type": "code",
   "execution_count": 4,
   "id": "2f7adddb",
   "metadata": {},
   "outputs": [],
   "source": [
    "## pip install git+https://github.com/google-research/perch-hoplite.git\n",
    "# from perch_hoplite.db import interface as hoplite\n",
    "from perch_hoplite.db import sqlite_usearch_impl"
   ]
  },
  {
   "cell_type": "code",
   "execution_count": null,
   "id": "117e24d9",
   "metadata": {},
   "outputs": [],
   "source": [
    "db_path = 'data/train_embeddings_database/'\n",
    "embedding_db = sqlite_usearch_impl.SQLiteUsearchDB.create(db_path)"
   ]
  },
  {
   "cell_type": "code",
   "execution_count": 6,
   "id": "e9d112fa",
   "metadata": {},
   "outputs": [
    {
     "data": {
      "text/plain": [
       "array([   1,    2,    3, ..., 1338, 1339, 1340])"
      ]
     },
     "execution_count": 6,
     "metadata": {},
     "output_type": "execute_result"
    }
   ],
   "source": [
    "embedding_db.get_embedding_ids()"
   ]
  },
  {
   "cell_type": "code",
   "execution_count": 7,
   "id": "760b0946",
   "metadata": {},
   "outputs": [
    {
     "data": {
      "text/plain": [
       "array([0.     , 0.9517 , 0.11847, ..., 0.4795 , 0.02275, 0.3196 ],\n",
       "      dtype=float16)"
      ]
     },
     "execution_count": 7,
     "metadata": {},
     "output_type": "execute_result"
    }
   ],
   "source": [
    "embedding_db.get_embedding(1)"
   ]
  },
  {
   "cell_type": "code",
   "execution_count": 33,
   "id": "04e80e8a",
   "metadata": {},
   "outputs": [
    {
     "ename": "ValueError",
     "evalue": "Embeddings 0 not found.",
     "output_type": "error",
     "traceback": [
      "\u001b[31m---------------------------------------------------------------------------\u001b[39m",
      "\u001b[31mValueError\u001b[39m                                Traceback (most recent call last)",
      "\u001b[36mCell\u001b[39m\u001b[36m \u001b[39m\u001b[32mIn[33]\u001b[39m\u001b[32m, line 1\u001b[39m\n\u001b[32m----> \u001b[39m\u001b[32m1\u001b[39m \u001b[43membedding_db\u001b[49m\u001b[43m.\u001b[49m\u001b[43mget_embedding\u001b[49m\u001b[43m(\u001b[49m\u001b[32;43m0\u001b[39;49m\u001b[43m)\u001b[49m\n",
      "\u001b[36mFile \u001b[39m\u001b[32m~/dev/venv/generic_data_science/lib/python3.12/site-packages/perch_hoplite/db/sqlite_usearch_impl.py:280\u001b[39m, in \u001b[36mSQLiteUsearchDB.get_embedding\u001b[39m\u001b[34m(self, embedding_id)\u001b[39m\n\u001b[32m    278\u001b[39m contains = \u001b[38;5;28mself\u001b[39m.ui.contains(embedding_id)\n\u001b[32m    279\u001b[39m \u001b[38;5;28;01mif\u001b[39;00m \u001b[38;5;129;01mnot\u001b[39;00m np.all(contains):\n\u001b[32m--> \u001b[39m\u001b[32m280\u001b[39m   \u001b[38;5;28;01mraise\u001b[39;00m \u001b[38;5;167;01mValueError\u001b[39;00m(\u001b[33mf\u001b[39m\u001b[33m'\u001b[39m\u001b[33mEmbeddings \u001b[39m\u001b[38;5;132;01m{\u001b[39;00membedding_id\u001b[38;5;132;01m}\u001b[39;00m\u001b[33m not found.\u001b[39m\u001b[33m'\u001b[39m)\n\u001b[32m    281\u001b[39m emb = \u001b[38;5;28mself\u001b[39m.ui.get(embedding_id)\n\u001b[32m    282\u001b[39m \u001b[38;5;28;01mreturn\u001b[39;00m np.array(emb)\n",
      "\u001b[31mValueError\u001b[39m: Embeddings 0 not found."
     ]
    }
   ],
   "source": [
    "embedding_db.get_embedding(0)"
   ]
  },
  {
   "cell_type": "code",
   "execution_count": 8,
   "id": "c7893b45",
   "metadata": {},
   "outputs": [
    {
     "data": {
      "text/plain": [
       "EmbeddingSource(dataset_name='birdnet_analyzer_dataset', source_id='//NAS/NAS-Files/Datasets/GCW_labeled_samples/Training_Data/Train/Positive\\\\Keitt_Positive\\\\A_Song\\\\S4A01514_20170310_094702_3081.wav', offsets=array([0., 3.], dtype=float16))"
      ]
     },
     "execution_count": 8,
     "metadata": {},
     "output_type": "execute_result"
    }
   ],
   "source": [
    "embedding_db.get_embedding_source(1)"
   ]
  },
  {
   "cell_type": "markdown",
   "id": "cd05f780",
   "metadata": {},
   "source": [
    "Note that numpy uses 0 indexing while perch hoplite starts at 1. Add 1 to the numpy indices"
   ]
  },
  {
   "cell_type": "code",
   "execution_count": 39,
   "id": "87fc6d3d",
   "metadata": {},
   "outputs": [
    {
     "data": {
      "text/plain": [
       "array([[0.     , 0.9517 , 0.11847, ..., 0.4795 , 0.02275, 0.3196 ],\n",
       "       [0.     , 1.498  , 0.2734 , ..., 0.601  , 0.     , 0.3037 ],\n",
       "       [0.     , 0.4631 , 0.5166 , ..., 0.1382 , 0.277  , 0.59   ],\n",
       "       ...,\n",
       "       [0.332  , 1.031  , 0.646  , ..., 0.6807 , 0.02231, 0.93   ],\n",
       "       [0.3494 , 1.253  , 0.135  , ..., 0.7607 , 0.0661 , 1.386  ],\n",
       "       [0.042  , 0.404  , 0.3801 , ..., 0.3909 , 0.0972 , 0.6577 ]],\n",
       "      dtype=float16)"
      ]
     },
     "execution_count": 39,
     "metadata": {},
     "output_type": "execute_result"
    }
   ],
   "source": [
    "embedding_db.get_embeddings(A_song+1)[1]"
   ]
  },
  {
   "cell_type": "code",
   "execution_count": 43,
   "id": "6f17479d",
   "metadata": {},
   "outputs": [],
   "source": [
    "all_embeddings = embedding_db.get_embeddings(embedding_db.get_embedding_ids())[1]"
   ]
  },
  {
   "cell_type": "code",
   "execution_count": 131,
   "id": "25d24601",
   "metadata": {},
   "outputs": [
    {
     "data": {
      "text/plain": [
       "(1340, 2)"
      ]
     },
     "execution_count": 131,
     "metadata": {},
     "output_type": "execute_result"
    }
   ],
   "source": [
    "labels.shape"
   ]
  },
  {
   "cell_type": "code",
   "execution_count": 45,
   "id": "791da419",
   "metadata": {},
   "outputs": [
    {
     "data": {
      "text/plain": [
       "(1340, 1024)"
      ]
     },
     "execution_count": 45,
     "metadata": {},
     "output_type": "execute_result"
    }
   ],
   "source": [
    "all_embeddings.shape"
   ]
  },
  {
   "cell_type": "code",
   "execution_count": 129,
   "id": "1303ae23",
   "metadata": {},
   "outputs": [],
   "source": [
    "np.save(\"train_embeddings.npy\", all_embeddings)"
   ]
  },
  {
   "cell_type": "code",
   "execution_count": 48,
   "id": "0ec08f95",
   "metadata": {},
   "outputs": [
    {
     "data": {
      "text/plain": [
       "515"
      ]
     },
     "execution_count": 48,
     "metadata": {},
     "output_type": "execute_result"
    }
   ],
   "source": [
    "len(sources['source'])"
   ]
  },
  {
   "cell_type": "markdown",
   "id": "a7693098",
   "metadata": {},
   "source": [
    "Repeat for test set database"
   ]
  },
  {
   "cell_type": "code",
   "execution_count": 1,
   "id": "1e912d7a",
   "metadata": {},
   "outputs": [],
   "source": [
    "import sqlite3\n",
    "import pandas as pd\n",
    "import numpy as np\n",
    "db_path = 'data/test_embeddings_database/hoplite.sqlite' # Replace with the actual path\n",
    "connection = sqlite3.connect(db_path)\n",
    "cursor = connection.cursor()\n",
    "embeddings = pd.read_sql_query(\"SELECT * from hoplite_embeddings\", connection)\n",
    "\n",
    "sources = pd.read_sql_query(\"SELECT * from hoplite_sources\", connection)\n",
    "A_song = np.where(sources['source'].str.contains(\"A_Song|A Song\", regex=True))[0] + 1\n",
    "B_song = np.where(sources['source'].str.contains(\"B_Song|B Song\", regex=True))[0] + 1\n",
    "A_Song_No_Hook = np.where(sources['source'].str.contains(\"A_Song_No_Hook\"))[0] + 1\n",
    "A_and_B_Song = np.where(sources['source'].str.contains(\"A_and_B_Song\"))[0] + 1\n",
    "\n",
    "A_present = embeddings[\"source_idx\"].isin(A_song) | embeddings[\"source_idx\"].isin(A_and_B_Song)\n",
    "B_present = embeddings[\"source_idx\"].isin(B_song) | embeddings[\"source_idx\"].isin(A_and_B_Song)\n",
    "labels = np.zeros(shape=(embeddings.shape[0], 2))\n",
    "labels[A_present, 0] = 1\n",
    "labels[B_present, 1] = 1\n",
    "\n",
    "np.save(\"test_labels.npy\", labels)"
   ]
  },
  {
   "cell_type": "code",
   "execution_count": 5,
   "id": "ec6d8a41",
   "metadata": {},
   "outputs": [],
   "source": [
    "db_path = 'data/test_embeddings_database/'\n",
    "embedding_db = sqlite_usearch_impl.SQLiteUsearchDB.create(db_path)\n",
    "all_embeddings = embedding_db.get_embeddings(embedding_db.get_embedding_ids())[1]\n",
    "np.save(\"test_embeddings.npy\", all_embeddings)"
   ]
  },
  {
   "cell_type": "code",
   "execution_count": 7,
   "id": "0840f8c2",
   "metadata": {},
   "outputs": [
    {
     "data": {
      "text/plain": [
       "array([[0.     , 0.2205 , 0.0903 , ..., 0.597  , 0.11523, 0.04623],\n",
       "       [0.     , 0.315  , 0.     , ..., 0.394  , 0.09326, 0.2109 ],\n",
       "       [0.     , 0.4424 , 0.     , ..., 0.09265, 0.07434, 0.     ],\n",
       "       ...,\n",
       "       [0.0286 , 1.386  , 0.41   , ..., 1.23   , 0.     , 0.     ],\n",
       "       [0.     , 0.6587 , 0.933  , ..., 0.6025 , 0.0542 , 0.5034 ],\n",
       "       [0.00628, 0.1055 , 0.     , ..., 0.3428 , 0.1232 , 0.     ]],\n",
       "      dtype=float16)"
      ]
     },
     "execution_count": 7,
     "metadata": {},
     "output_type": "execute_result"
    }
   ],
   "source": [
    "all_embeddings"
   ]
  },
  {
   "cell_type": "code",
   "execution_count": 6,
   "id": "be47793d",
   "metadata": {},
   "outputs": [
    {
     "data": {
      "text/plain": [
       "(648, 1024)"
      ]
     },
     "execution_count": 6,
     "metadata": {},
     "output_type": "execute_result"
    }
   ],
   "source": [
    "all_embeddings.shape"
   ]
  }
 ],
 "metadata": {
  "kernelspec": {
   "display_name": "generic_data_science",
   "language": "python",
   "name": "python3"
  },
  "language_info": {
   "codemirror_mode": {
    "name": "ipython",
    "version": 3
   },
   "file_extension": ".py",
   "mimetype": "text/x-python",
   "name": "python",
   "nbconvert_exporter": "python",
   "pygments_lexer": "ipython3",
   "version": "3.12.10"
  }
 },
 "nbformat": 4,
 "nbformat_minor": 5
}
