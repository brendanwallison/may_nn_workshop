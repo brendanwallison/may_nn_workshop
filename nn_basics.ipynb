{
 "cells": [
  {
   "cell_type": "code",
   "execution_count": 1,
   "id": "9dcc5a50",
   "metadata": {},
   "outputs": [],
   "source": [
    "import torch\n",
    "import torch.nn as nn\n",
    "import torch.nn.functional as F\n",
    "from torch.utils.data import TensorDataset, DataLoader\n",
    "import matplotlib.pyplot as plt\n",
    "import numpy as np\n",
    "\n",
    "# This defines the neural network architecture\n",
    "class FeedforwardClassifier(nn.Module):\n",
    "    def __init__(self, input_size, hidden_size, num_classes):\n",
    "        super(FeedforwardClassifier, self).__init__()\n",
    "        self.fc1 = nn.Linear(input_size, hidden_size)  # First fully connected layer\n",
    "        self.relu = nn.ReLU()  # ReLU activation function\n",
    "        self.fc2 = nn.Linear(hidden_size, num_classes) # Second fully connected layer\n",
    "\n",
    "    def forward(self, x):\n",
    "        out = self.fc1(x)\n",
    "        out = self.relu(out)\n",
    "        out = self.fc2(out)\n",
    "        return out\n",
    "\n",
    "# This defines the training process\n",
    "# Training loops tend to be largely boilerplate code (doesn't change much from project to project) \n",
    "def train(model, optimizer, data_loader, num_epochs):\n",
    "    loss_values = []\n",
    "    for epoch in range(num_epochs):\n",
    "        running_loss = 0.0\n",
    "        for i, data in enumerate(data_loader, 0):\n",
    "            inputs, labels = data\n",
    "            optimizer.zero_grad()\n",
    "            outputs = model(inputs)\n",
    "            loss = F.binary_cross_entropy_with_logits(outputs, labels)\n",
    "            loss.backward()\n",
    "            optimizer.step()\n",
    "            running_loss += loss.item()\n",
    "        epoch_loss = running_loss / len(data_loader)\n",
    "        loss_values.append(epoch_loss)\n",
    "        print(f\"Epoch {epoch+1}, Loss: {epoch_loss:.4f}\")\n",
    "    return loss_values"
   ]
  },
  {
   "cell_type": "code",
   "execution_count": 13,
   "id": "a6610fd4",
   "metadata": {},
   "outputs": [
    {
     "name": "stdout",
     "output_type": "stream",
     "text": [
      "torch.Size([1340, 1024])\n",
      "torch.Size([1340, 2])\n",
      "torch.float16\n",
      "torch.float64\n"
     ]
    }
   ],
   "source": [
    "# Generate dummy data\n",
    "embeddings = torch.from_numpy(np.load(\"train_embeddings.npy\"))\n",
    "labels = torch.from_numpy(np.load(\"train_labels.npy\"))\n",
    "print(embeddings.shape)\n",
    "print(labels.shape)\n",
    "print(embeddings.dtype)\n",
    "print(labels.dtype)"
   ]
  },
  {
   "cell_type": "markdown",
   "id": "e864e57b",
   "metadata": {},
   "source": [
    "Apparently BirdNet saves lower precision embeddings (float16), saving memory at the cost of numerical precision.\n",
    "Let's not worry about dtypes for now and just convert everything to float32, which tends to be the default in ML"
   ]
  },
  {
   "cell_type": "code",
   "execution_count": 17,
   "id": "625d85ee",
   "metadata": {},
   "outputs": [
    {
     "name": "stdout",
     "output_type": "stream",
     "text": [
      "torch.float32\n",
      "torch.float32\n"
     ]
    }
   ],
   "source": [
    "print(embeddings.float().dtype)\n",
    "print(labels.float().dtype)"
   ]
  },
  {
   "cell_type": "code",
   "execution_count": 79,
   "id": "8fcb6390",
   "metadata": {},
   "outputs": [],
   "source": [
    "embeddings = torch.from_numpy(np.load(\"train_embeddings.npy\")).float()\n",
    "labels = torch.from_numpy(np.load(\"train_labels.npy\")).float()\n",
    "validation_embeddings = torch.from_numpy(np.load(\"test_embeddings.npy\")).float()\n",
    "validation_labels = torch.from_numpy(np.load(\"test_labels.npy\")).float()\n",
    "\n",
    "dataset = TensorDataset(embeddings, labels)\n",
    "data_loader = torch.utils.data.DataLoader(dataset, batch_size=100)"
   ]
  },
  {
   "cell_type": "code",
   "execution_count": 122,
   "id": "9327ec5e",
   "metadata": {},
   "outputs": [
    {
     "name": "stdout",
     "output_type": "stream",
     "text": [
      "Epoch 1, Loss: 722.0176\n",
      "Epoch 2, Loss: 70.9168\n",
      "Epoch 3, Loss: 0.6927\n",
      "Epoch 4, Loss: 0.6758\n",
      "Epoch 5, Loss: 0.6708\n",
      "Epoch 6, Loss: 0.6707\n",
      "Epoch 7, Loss: 0.6722\n",
      "Epoch 8, Loss: 0.6736\n",
      "Epoch 9, Loss: 0.6743\n",
      "Epoch 10, Loss: 0.6746\n",
      "Epoch 11, Loss: 0.6748\n",
      "Epoch 12, Loss: 0.6748\n",
      "Epoch 13, Loss: 0.6749\n",
      "Epoch 14, Loss: 0.6749\n",
      "Epoch 15, Loss: 0.6750\n",
      "Epoch 16, Loss: 0.6750\n",
      "Epoch 17, Loss: 0.6751\n",
      "Epoch 18, Loss: 0.6751\n",
      "Epoch 19, Loss: 0.6752\n",
      "Epoch 20, Loss: 0.6752\n",
      "Epoch 21, Loss: 0.6752\n",
      "Epoch 22, Loss: 0.6753\n",
      "Epoch 23, Loss: 0.6753\n",
      "Epoch 24, Loss: 0.6753\n",
      "Epoch 25, Loss: 0.6753\n",
      "Epoch 26, Loss: 0.6754\n",
      "Epoch 27, Loss: 0.6754\n",
      "Epoch 28, Loss: 0.6754\n",
      "Epoch 29, Loss: 0.6754\n",
      "Epoch 30, Loss: 0.6754\n",
      "Epoch 31, Loss: 0.6754\n",
      "Epoch 32, Loss: 0.6754\n",
      "Epoch 33, Loss: 0.6755\n",
      "Epoch 34, Loss: 0.6755\n",
      "Epoch 35, Loss: 0.6755\n",
      "Epoch 36, Loss: 0.6755\n",
      "Epoch 37, Loss: 0.6755\n",
      "Epoch 38, Loss: 0.6755\n",
      "Epoch 39, Loss: 0.6755\n",
      "Epoch 40, Loss: 0.6755\n",
      "Epoch 41, Loss: 0.6755\n",
      "Epoch 42, Loss: 0.6756\n",
      "Epoch 43, Loss: 0.6756\n",
      "Epoch 44, Loss: 0.6756\n",
      "Epoch 45, Loss: 0.6756\n",
      "Epoch 46, Loss: 0.6756\n",
      "Epoch 47, Loss: 0.6756\n",
      "Epoch 48, Loss: 0.6756\n",
      "Epoch 49, Loss: 0.6756\n",
      "Epoch 50, Loss: 0.6756\n",
      "Epoch 51, Loss: 0.6756\n",
      "Epoch 52, Loss: 0.6756\n",
      "Epoch 53, Loss: 0.6756\n",
      "Epoch 54, Loss: 0.6756\n",
      "Epoch 55, Loss: 0.6756\n",
      "Epoch 56, Loss: 0.6756\n",
      "Epoch 57, Loss: 0.6756\n",
      "Epoch 58, Loss: 0.6756\n",
      "Epoch 59, Loss: 0.6756\n",
      "Epoch 60, Loss: 0.6756\n",
      "Epoch 61, Loss: 0.6756\n",
      "Epoch 62, Loss: 0.6757\n",
      "Epoch 63, Loss: 0.6757\n",
      "Epoch 64, Loss: 0.6757\n",
      "Epoch 65, Loss: 0.6757\n",
      "Epoch 66, Loss: 0.6757\n",
      "Epoch 67, Loss: 0.6757\n",
      "Epoch 68, Loss: 0.6757\n",
      "Epoch 69, Loss: 0.6757\n",
      "Epoch 70, Loss: 0.6757\n",
      "Epoch 71, Loss: 0.6757\n",
      "Epoch 72, Loss: 0.6757\n",
      "Epoch 73, Loss: 0.6757\n",
      "Epoch 74, Loss: 0.6757\n",
      "Epoch 75, Loss: 0.6757\n",
      "Epoch 76, Loss: 0.6757\n",
      "Epoch 77, Loss: 0.6757\n",
      "Epoch 78, Loss: 0.6757\n",
      "Epoch 79, Loss: 0.6757\n",
      "Epoch 80, Loss: 0.6757\n",
      "Epoch 81, Loss: 0.6757\n",
      "Epoch 82, Loss: 0.6757\n",
      "Epoch 83, Loss: 0.6757\n",
      "Epoch 84, Loss: 0.6757\n",
      "Epoch 85, Loss: 0.6757\n",
      "Epoch 86, Loss: 0.6757\n",
      "Epoch 87, Loss: 0.6757\n",
      "Epoch 88, Loss: 0.6757\n",
      "Epoch 89, Loss: 0.6757\n",
      "Epoch 90, Loss: 0.6757\n",
      "Epoch 91, Loss: 0.6757\n",
      "Epoch 92, Loss: 0.6757\n",
      "Epoch 93, Loss: 0.6757\n",
      "Epoch 94, Loss: 0.6757\n",
      "Epoch 95, Loss: 0.6757\n",
      "Epoch 96, Loss: 0.6757\n",
      "Epoch 97, Loss: 0.6757\n",
      "Epoch 98, Loss: 0.6757\n",
      "Epoch 99, Loss: 0.6757\n",
      "Epoch 100, Loss: 0.6757\n"
     ]
    },
    {
     "data": {
      "image/png": "[encoded data removed]",
      "text/plain": [
       "<Figure size 640x480 with 1 Axes>"
      ]
     },
     "metadata": {},
     "output_type": "display_data"
    }
   ],
   "source": [
    "model = FeedforwardClassifier(1024, 256, 2)\n",
    "optimizer = torch.optim.Adam(model.parameters(), lr=0.1)\n",
    "num_epochs = 100\n",
    "\n",
    "# Train the model and get loss values\n",
    "loss_values = train(model, optimizer, data_loader, num_epochs)\n",
    "\n",
    "# Plot the loss values\n",
    "plt.plot(loss_values)\n",
    "plt.xlabel(\"Epoch\")\n",
    "plt.ylabel(\"Log Loss\")\n",
    "plt.title(\"Training Loss\")\n",
    "plt.show()"
   ]
  },
  {
   "cell_type": "code",
   "execution_count": 123,
   "id": "afb5add1",
   "metadata": {},
   "outputs": [],
   "source": [
    "with torch.inference_mode():\n",
    "    yhat = model(validation_embeddings)"
   ]
  },
  {
   "cell_type": "markdown",
   "id": "6e567462",
   "metadata": {},
   "source": [
    "Note that we've written the model to output the pre-sigmoid score. To get the actual predictions, we will have to run them through a sigmoid function"
   ]
  },
  {
   "cell_type": "code",
   "execution_count": 124,
   "id": "6bc69609",
   "metadata": {},
   "outputs": [
    {
     "data": {
      "text/plain": [
       "(array([[  0.,   0.,   0.,   0.,   0.,   0.,   0.,   0.,   0., 648.],\n",
       "        [648.,   0.,   0.,   0.,   0.,   0.,   0.,   0.,   0.,   0.]]),\n",
       " array([-0.434443  , -0.33907604, -0.2437091 , -0.14834215, -0.0529752 ,\n",
       "         0.04239175,  0.1377587 ,  0.23312564,  0.32849258,  0.42385954,\n",
       "         0.51922649]),\n",
       " <a list of 2 BarContainer objects>)"
      ]
     },
     "execution_count": 124,
     "metadata": {},
     "output_type": "execute_result"
    },
    {
     "data": {
      "image/png": "[encoded data removed]",
      "text/plain": [
       "<Figure size 640x480 with 1 Axes>"
      ]
     },
     "metadata": {},
     "output_type": "display_data"
    }
   ],
   "source": [
    "plt.hist(yhat)"
   ]
  },
  {
   "cell_type": "code",
   "execution_count": 125,
   "id": "1ad350a7",
   "metadata": {},
   "outputs": [
    {
     "data": {
      "text/plain": [
       "(array([[  0.,   0.,   0.,   0.,   0.,   0.,   0.,   0.,   0., 648.],\n",
       "        [648.,   0.,   0.,   0.,   0.,   0.,   0.,   0.,   0.,   0.]]),\n",
       " array([0.3930659 , 0.41645598, 0.4398461 , 0.46323621, 0.4866263 ,\n",
       "        0.51001638, 0.5334065 , 0.55679661, 0.58018672, 0.60357678,\n",
       "        0.62696689]),\n",
       " <a list of 2 BarContainer objects>)"
      ]
     },
     "execution_count": 125,
     "metadata": {},
     "output_type": "execute_result"
    },
    {
     "data": {
      "image/png": "[encoded data removed]",
      "text/plain": [
       "<Figure size 640x480 with 1 Axes>"
      ]
     },
     "metadata": {},
     "output_type": "display_data"
    }
   ],
   "source": [
    "plt.hist(torch.sigmoid(yhat))"
   ]
  },
  {
   "cell_type": "code",
   "execution_count": 126,
   "id": "e9ccc981",
   "metadata": {},
   "outputs": [],
   "source": [
    "def apply_threshold(tensor, threshold):\n",
    "  \"\"\"\n",
    "  Applies a threshold to a PyTorch tensor, changing values to 1 if above the threshold and 0 if below.\n",
    "\n",
    "  Args:\n",
    "    tensor: The input PyTorch tensor.\n",
    "    threshold: The threshold value.\n",
    "\n",
    "  Returns:\n",
    "    A new tensor with values changed to 1 or 0 based on the threshold.\n",
    "  \"\"\"\n",
    "  return (tensor > threshold).int()"
   ]
  },
  {
   "cell_type": "code",
   "execution_count": 127,
   "id": "73ecccc9",
   "metadata": {},
   "outputs": [],
   "source": [
    "predictions = apply_threshold(torch.sigmoid(yhat), 0.5)"
   ]
  },
  {
   "cell_type": "code",
   "execution_count": 128,
   "id": "fd8e0c98",
   "metadata": {},
   "outputs": [
    {
     "name": "stdout",
     "output_type": "stream",
     "text": [
      "tensor(1086)\n",
      "tensor(210)\n"
     ]
    }
   ],
   "source": [
    "print(torch.sum(validation_labels == predictions))\n",
    "print(torch.sum(validation_labels != predictions))\n"
   ]
  },
  {
   "cell_type": "markdown",
   "id": "0d6d1bfa",
   "metadata": {},
   "source": [
    "Plummeting fast then leveling off early suggests the learning rate may be too high. Let's check."
   ]
  },
  {
   "cell_type": "code",
   "execution_count": 129,
   "id": "03161c79",
   "metadata": {},
   "outputs": [
    {
     "name": "stdout",
     "output_type": "stream",
     "text": [
      "Epoch 1, Loss: 14.0104\n",
      "Epoch 2, Loss: 2.0762\n",
      "Epoch 3, Loss: 0.6907\n",
      "Epoch 4, Loss: 0.6868\n",
      "Epoch 5, Loss: 0.6839\n",
      "Epoch 6, Loss: 0.6815\n",
      "Epoch 7, Loss: 0.6795\n",
      "Epoch 8, Loss: 0.6776\n",
      "Epoch 9, Loss: 0.6758\n",
      "Epoch 10, Loss: 0.6737\n",
      "Epoch 11, Loss: 0.6687\n",
      "Epoch 12, Loss: 0.6406\n",
      "Epoch 13, Loss: 0.5158\n",
      "Epoch 14, Loss: 0.4600\n",
      "Epoch 15, Loss: 0.3979\n",
      "Epoch 16, Loss: 0.3695\n",
      "Epoch 17, Loss: 0.3459\n",
      "Epoch 18, Loss: 0.3277\n",
      "Epoch 19, Loss: 0.3089\n",
      "Epoch 20, Loss: 0.2931\n",
      "Epoch 21, Loss: 0.2781\n",
      "Epoch 22, Loss: 0.2641\n",
      "Epoch 23, Loss: 0.2511\n",
      "Epoch 24, Loss: 0.2388\n",
      "Epoch 25, Loss: 0.2273\n",
      "Epoch 26, Loss: 0.2166\n",
      "Epoch 27, Loss: 0.2066\n",
      "Epoch 28, Loss: 0.1973\n",
      "Epoch 29, Loss: 0.1885\n",
      "Epoch 30, Loss: 0.1804\n",
      "Epoch 31, Loss: 0.1728\n",
      "Epoch 32, Loss: 0.1656\n",
      "Epoch 33, Loss: 0.1589\n",
      "Epoch 34, Loss: 0.1526\n",
      "Epoch 35, Loss: 0.1467\n",
      "Epoch 36, Loss: 0.1411\n",
      "Epoch 37, Loss: 0.1359\n",
      "Epoch 38, Loss: 0.1310\n",
      "Epoch 39, Loss: 0.1265\n",
      "Epoch 40, Loss: 0.1221\n",
      "Epoch 41, Loss: 0.1180\n",
      "Epoch 42, Loss: 0.1142\n",
      "Epoch 43, Loss: 0.1106\n",
      "Epoch 44, Loss: 0.1071\n",
      "Epoch 45, Loss: 0.1038\n",
      "Epoch 46, Loss: 0.1007\n",
      "Epoch 47, Loss: 0.0978\n",
      "Epoch 48, Loss: 0.0950\n",
      "Epoch 49, Loss: 0.0923\n",
      "Epoch 50, Loss: 0.0899\n",
      "Epoch 51, Loss: 0.0875\n",
      "Epoch 52, Loss: 0.0851\n",
      "Epoch 53, Loss: 0.0829\n",
      "Epoch 54, Loss: 0.0809\n",
      "Epoch 55, Loss: 0.0788\n",
      "Epoch 56, Loss: 0.0769\n",
      "Epoch 57, Loss: 0.0750\n",
      "Epoch 58, Loss: 0.0733\n",
      "Epoch 59, Loss: 0.0716\n",
      "Epoch 60, Loss: 0.0699\n",
      "Epoch 61, Loss: 0.0684\n",
      "Epoch 62, Loss: 0.0668\n",
      "Epoch 63, Loss: 0.0654\n",
      "Epoch 64, Loss: 0.0639\n",
      "Epoch 65, Loss: 0.0625\n",
      "Epoch 66, Loss: 0.0612\n",
      "Epoch 67, Loss: 0.0598\n",
      "Epoch 68, Loss: 0.0585\n",
      "Epoch 69, Loss: 0.0571\n",
      "Epoch 70, Loss: 0.0558\n",
      "Epoch 71, Loss: 0.0544\n",
      "Epoch 72, Loss: 0.0532\n",
      "Epoch 73, Loss: 0.0519\n",
      "Epoch 74, Loss: 0.0508\n",
      "Epoch 75, Loss: 0.0497\n",
      "Epoch 76, Loss: 0.0487\n",
      "Epoch 77, Loss: 0.0476\n",
      "Epoch 78, Loss: 0.0467\n",
      "Epoch 79, Loss: 0.0458\n",
      "Epoch 80, Loss: 0.0449\n",
      "Epoch 81, Loss: 0.0441\n",
      "Epoch 82, Loss: 0.0432\n",
      "Epoch 83, Loss: 0.0424\n",
      "Epoch 84, Loss: 0.0416\n",
      "Epoch 85, Loss: 0.0409\n",
      "Epoch 86, Loss: 0.0400\n",
      "Epoch 87, Loss: 0.0393\n",
      "Epoch 88, Loss: 0.0384\n",
      "Epoch 89, Loss: 0.0374\n",
      "Epoch 90, Loss: 0.0368\n",
      "Epoch 91, Loss: 0.0357\n",
      "Epoch 92, Loss: 0.0353\n",
      "Epoch 93, Loss: 0.0344\n",
      "Epoch 94, Loss: 0.0349\n",
      "Epoch 95, Loss: 0.0371\n",
      "Epoch 96, Loss: 0.0382\n",
      "Epoch 97, Loss: 0.0433\n",
      "Epoch 98, Loss: 0.0498\n",
      "Epoch 99, Loss: 0.0374\n",
      "Epoch 100, Loss: 0.0417\n"
     ]
    },
    {
     "data": {
      "image/png": "[encoded data removed]",
      "text/plain": [
       "<Figure size 640x480 with 1 Axes>"
      ]
     },
     "metadata": {},
     "output_type": "display_data"
    }
   ],
   "source": [
    "model = FeedforwardClassifier(1024, 256, 2)\n",
    "optimizer = torch.optim.Adam(model.parameters(), lr=0.01)\n",
    "num_epochs = 100\n",
    "\n",
    "# Train the model and get loss values\n",
    "loss_values = train(model, optimizer, data_loader, num_epochs)\n",
    "\n",
    "# Plot the loss values\n",
    "plt.plot(loss_values)\n",
    "plt.xlabel(\"Epoch\")\n",
    "plt.ylabel(\"Log Loss\")\n",
    "plt.title(\"Training Loss\")\n",
    "plt.show()"
   ]
  },
  {
   "cell_type": "code",
   "execution_count": 130,
   "id": "dfad0c5e",
   "metadata": {},
   "outputs": [],
   "source": [
    "with torch.inference_mode():\n",
    "    yhat = model(validation_embeddings)"
   ]
  },
  {
   "cell_type": "code",
   "execution_count": 131,
   "id": "bde36050",
   "metadata": {},
   "outputs": [],
   "source": [
    "predictions = apply_threshold(torch.sigmoid(yhat), 0.5)"
   ]
  },
  {
   "cell_type": "code",
   "execution_count": 132,
   "id": "bb5b3ad4",
   "metadata": {},
   "outputs": [
    {
     "name": "stdout",
     "output_type": "stream",
     "text": [
      "tensor(870)\n",
      "tensor(426)\n"
     ]
    }
   ],
   "source": [
    "print(torch.sum(validation_labels == predictions))\n",
    "print(torch.sum(validation_labels != predictions))"
   ]
  },
  {
   "cell_type": "markdown",
   "id": "0e40d19e",
   "metadata": {},
   "source": [
    "Nope! This is definitely worse. Let's try a linear classifier instead."
   ]
  },
  {
   "cell_type": "code",
   "execution_count": 133,
   "id": "b2c3d360",
   "metadata": {},
   "outputs": [],
   "source": [
    "class LinearClassifier(nn.Module):\n",
    "    def __init__(self, input_size, num_classes):\n",
    "        super(LinearClassifier, self).__init__()\n",
    "        self.fc1 = nn.Linear(input_size, num_classes)  # First fully connected layer\n",
    "\n",
    "    def forward(self, x):\n",
    "        out = self.fc1(x)\n",
    "        return out"
   ]
  },
  {
   "cell_type": "code",
   "execution_count": 134,
   "id": "9bafdfac",
   "metadata": {},
   "outputs": [
    {
     "name": "stdout",
     "output_type": "stream",
     "text": [
      "Epoch 1, Loss: 27.1163\n",
      "Epoch 2, Loss: 9.3453\n",
      "Epoch 3, Loss: 4.7980\n",
      "Epoch 4, Loss: 1.8438\n",
      "Epoch 5, Loss: 0.5900\n",
      "Epoch 6, Loss: 0.5286\n",
      "Epoch 7, Loss: 0.4104\n",
      "Epoch 8, Loss: 0.3444\n",
      "Epoch 9, Loss: 0.2916\n",
      "Epoch 10, Loss: 0.2504\n",
      "Epoch 11, Loss: 0.2223\n",
      "Epoch 12, Loss: 0.1973\n",
      "Epoch 13, Loss: 0.1733\n",
      "Epoch 14, Loss: 0.1491\n",
      "Epoch 15, Loss: 0.1289\n",
      "Epoch 16, Loss: 0.1116\n",
      "Epoch 17, Loss: 0.0961\n",
      "Epoch 18, Loss: 0.0841\n",
      "Epoch 19, Loss: 0.0728\n",
      "Epoch 20, Loss: 0.0624\n",
      "Epoch 21, Loss: 0.0518\n",
      "Epoch 22, Loss: 0.0431\n",
      "Epoch 23, Loss: 0.0341\n",
      "Epoch 24, Loss: 0.0316\n",
      "Epoch 25, Loss: 0.0268\n",
      "Epoch 26, Loss: 0.0615\n",
      "Epoch 27, Loss: 0.0237\n",
      "Epoch 28, Loss: 0.0638\n",
      "Epoch 29, Loss: 0.0118\n",
      "Epoch 30, Loss: 0.0146\n",
      "Epoch 31, Loss: 0.0108\n",
      "Epoch 32, Loss: 0.0280\n",
      "Epoch 33, Loss: 0.0070\n",
      "Epoch 34, Loss: 0.0077\n",
      "Epoch 35, Loss: 0.0072\n",
      "Epoch 36, Loss: 0.0203\n",
      "Epoch 37, Loss: 0.0071\n",
      "Epoch 38, Loss: 0.0191\n",
      "Epoch 39, Loss: 0.0060\n",
      "Epoch 40, Loss: 0.0143\n",
      "Epoch 41, Loss: 0.0047\n",
      "Epoch 42, Loss: 0.0103\n",
      "Epoch 43, Loss: 0.0028\n",
      "Epoch 44, Loss: 0.0037\n",
      "Epoch 45, Loss: 0.0011\n",
      "Epoch 46, Loss: 0.0009\n",
      "Epoch 47, Loss: 0.0006\n",
      "Epoch 48, Loss: 0.0005\n",
      "Epoch 49, Loss: 0.0005\n",
      "Epoch 50, Loss: 0.0005\n",
      "Epoch 51, Loss: 0.0004\n",
      "Epoch 52, Loss: 0.0004\n",
      "Epoch 53, Loss: 0.0004\n",
      "Epoch 54, Loss: 0.0004\n",
      "Epoch 55, Loss: 0.0004\n",
      "Epoch 56, Loss: 0.0004\n",
      "Epoch 57, Loss: 0.0004\n",
      "Epoch 58, Loss: 0.0003\n",
      "Epoch 59, Loss: 0.0003\n",
      "Epoch 60, Loss: 0.0003\n",
      "Epoch 61, Loss: 0.0003\n",
      "Epoch 62, Loss: 0.0003\n",
      "Epoch 63, Loss: 0.0003\n",
      "Epoch 64, Loss: 0.0003\n",
      "Epoch 65, Loss: 0.0003\n",
      "Epoch 66, Loss: 0.0003\n",
      "Epoch 67, Loss: 0.0003\n",
      "Epoch 68, Loss: 0.0003\n",
      "Epoch 69, Loss: 0.0003\n",
      "Epoch 70, Loss: 0.0003\n",
      "Epoch 71, Loss: 0.0003\n",
      "Epoch 72, Loss: 0.0003\n",
      "Epoch 73, Loss: 0.0003\n",
      "Epoch 74, Loss: 0.0002\n",
      "Epoch 75, Loss: 0.0002\n",
      "Epoch 76, Loss: 0.0002\n",
      "Epoch 77, Loss: 0.0002\n",
      "Epoch 78, Loss: 0.0002\n",
      "Epoch 79, Loss: 0.0002\n",
      "Epoch 80, Loss: 0.0002\n",
      "Epoch 81, Loss: 0.0002\n",
      "Epoch 82, Loss: 0.0002\n",
      "Epoch 83, Loss: 0.0002\n",
      "Epoch 84, Loss: 0.0002\n",
      "Epoch 85, Loss: 0.0002\n",
      "Epoch 86, Loss: 0.0002\n",
      "Epoch 87, Loss: 0.0002\n",
      "Epoch 88, Loss: 0.0002\n",
      "Epoch 89, Loss: 0.0002\n",
      "Epoch 90, Loss: 0.0002\n",
      "Epoch 91, Loss: 0.0002\n",
      "Epoch 92, Loss: 0.0002\n",
      "Epoch 93, Loss: 0.0002\n",
      "Epoch 94, Loss: 0.0002\n",
      "Epoch 95, Loss: 0.0002\n",
      "Epoch 96, Loss: 0.0002\n",
      "Epoch 97, Loss: 0.0002\n",
      "Epoch 98, Loss: 0.0002\n",
      "Epoch 99, Loss: 0.0002\n",
      "Epoch 100, Loss: 0.0002\n"
     ]
    },
    {
     "data": {
      "image/png": "[encoded data removed]",
      "text/plain": [
       "<Figure size 640x480 with 1 Axes>"
      ]
     },
     "metadata": {},
     "output_type": "display_data"
    }
   ],
   "source": [
    "model = LinearClassifier(1024, 2)\n",
    "optimizer = torch.optim.Adam(model.parameters(), lr=0.1)\n",
    "num_epochs = 100\n",
    "\n",
    "# Train the model and get loss values\n",
    "loss_values = train(model, optimizer, data_loader, num_epochs)\n",
    "\n",
    "# Plot the loss values\n",
    "plt.plot(loss_values)\n",
    "plt.xlabel(\"Epoch\")\n",
    "plt.ylabel(\"Log Loss\")\n",
    "plt.title(\"Training Loss\")\n",
    "plt.show()"
   ]
  },
  {
   "cell_type": "code",
   "execution_count": 135,
   "id": "4f63547b",
   "metadata": {},
   "outputs": [],
   "source": [
    "with torch.inference_mode():\n",
    "    yhat = model(validation_embeddings)"
   ]
  },
  {
   "cell_type": "code",
   "execution_count": 119,
   "id": "dea7dbcd",
   "metadata": {},
   "outputs": [],
   "source": [
    "predictions = apply_threshold(torch.sigmoid(yhat), 0.9)"
   ]
  },
  {
   "cell_type": "code",
   "execution_count": null,
   "id": "09ad8c0b",
   "metadata": {},
   "outputs": [
    {
     "name": "stdout",
     "output_type": "stream",
     "text": [
      "tensor(870)\n",
      "tensor(426)\n"
     ]
    }
   ],
   "source": [
    "print(torch.sum(validation_labels == predictions))\n",
    "print(torch.sum(validation_labels != predictions))"
   ]
  },
  {
   "cell_type": "markdown",
   "id": "83dea8c9",
   "metadata": {},
   "source": [
    "Also worse!"
   ]
  }
 ],
 "metadata": {
  "kernelspec": {
   "display_name": "generic_data_science",
   "language": "python",
   "name": "python3"
  },
  "language_info": {
   "codemirror_mode": {
    "name": "ipython",
    "version": 3
   },
   "file_extension": ".py",
   "mimetype": "text/x-python",
   "name": "python",
   "nbconvert_exporter": "python",
   "pygments_lexer": "ipython3",
   "version": "3.12.10"
  }
 },
 "nbformat": 4,
 "nbformat_minor": 5
}
